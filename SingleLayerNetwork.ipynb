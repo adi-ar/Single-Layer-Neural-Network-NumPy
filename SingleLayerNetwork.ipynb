{
 "cells": [
  {
   "cell_type": "code",
   "execution_count": 103,
   "metadata": {},
   "outputs": [],
   "source": [
    "import numpy as np\n",
    "import matplotlib.pyplot as plt\n",
    "import cv2 as cv\n",
    "import os as os\n",
    "\n",
    "np.random.seed(42)\n",
    "\n",
    "## Set path for training data\n",
    "train_pos='./hot-dog-not-hot-dog/train/hot_dog/'\n",
    "train_neg='./hot-dog-not-hot-dog/train/not_hot_dog/'\n",
    "\n",
    "## Set path for validation data\n",
    "test_pos='./hot-dog-not-hot-dog/test/hot_dog/'\n",
    "test_neg='./hot-dog-not-hot-dog/test/not_hot_dog/'"
   ]
  },
  {
   "cell_type": "code",
   "execution_count": 114,
   "metadata": {},
   "outputs": [
    {
     "data": {
      "text/plain": [
       "(498, 49152)"
      ]
     },
     "execution_count": 114,
     "metadata": {},
     "output_type": "execute_result"
    }
   ],
   "source": [
    "## As images are of different sizes, we resize all images to same size.. Setting size:\n",
    "img_width=128\n",
    "img_height=128\n",
    "img_size=img_width*img_height\n",
    "img_size_tuple=(img_width,img_height)\n",
    "\n",
    "## Create empty np array where we will write all training data. size of array [no of examples,image_size*3] for RGB images\n",
    "train_data=np.empty([498,img_size*3])\n",
    "\n",
    "#Read images from train folders\n",
    "i=0\n",
    "for im in os.listdir(train_pos):\n",
    "    image=cv.imread(train_pos+im)\n",
    "    image=cv.resize(image, img_size_tuple, interpolation=cv.INTER_CUBIC)\n",
    "    image=image.reshape(1,img_size*3)\n",
    "    \n",
    "    train_data[i]=image\n",
    "    i+=1\n",
    "\n",
    "for im in os.listdir(train_neg):\n",
    "    image=cv.imread(train_neg+im)\n",
    "    image=cv.resize(image, img_size_tuple, interpolation=cv.INTER_CUBIC)\n",
    "    image=image.reshape(1,img_size*3)\n",
    "    \n",
    "    train_data[i]=image\n",
    "    i+=1\n",
    "    \n",
    "\n",
    "Y=np.zeros([1,498])\n",
    "Y[0:248]=1\n",
    "\n",
    "train_data.shape"
   ]
  },
  {
   "cell_type": "code",
   "execution_count": 117,
   "metadata": {},
   "outputs": [
    {
     "name": "stdout",
     "output_type": "stream",
     "text": [
      "Training Data Shape:  (49152, 498) \n",
      " Y vector Shape:  (1, 498)\n"
     ]
    }
   ],
   "source": [
    "## Preprocessing: Standardise values, transpose to have training examples in columns and features as rows\n",
    "train=train_data/255\n",
    "train = train_data.T\n",
    "\n",
    "print(\"Training Data Shape: \",train.shape,\"\\n Y vector Shape: \", Y.shape)"
   ]
  },
  {
   "cell_type": "code",
   "execution_count": 106,
   "metadata": {},
   "outputs": [],
   "source": [
    "## Set Number of nodes\n",
    "\n",
    "# nodes in input layer = no of features\n",
    "# nodes in hidden layer = hyperparameter\n",
    "# nodes in output later = 1 for binary classification\n",
    "\n",
    "n_0 = train.shape[0]\n",
    "n_1 = 4\n",
    "n_2 = 1\n"
   ]
  },
  {
   "cell_type": "markdown",
   "metadata": {},
   "source": [
    "Now we define functions step by step:\n",
    "    \n",
    "    1. Set weights\n",
    "    2. Get linear response\n",
    "    3. Get activation - sigmoid and tanh for layer 2 and 1 resp\n",
    "    4. Compute cost\n",
    "    5. Get gradients\n",
    "    6. Update weights\n",
    "    \n",
    "    Repeat steps 2-5 until condition"
   ]
  },
  {
   "cell_type": "code",
   "execution_count": 107,
   "metadata": {},
   "outputs": [],
   "source": [
    "def init_weights(n_0,n_1,n_2):\n",
    "    \n",
    "    ## weights for layer l have dims [n_l,n_(l-1)]; bias term for layer l has dim [l,1]\n",
    "    W1 = np.random.randn(n_1,n_0) * 0.01\n",
    "    b1 = np.zeros((n_1,1))\n",
    "    W2 = np.random.randn(n_2,n_1)*0.01\n",
    "    b2 = np.zeros((n_2,1))\n",
    "\n",
    "    weights = {\"W1\": W1,\n",
    "                  \"b1\": b1,\n",
    "                  \"W2\": W2,\n",
    "                  \"b2\": b2}\n",
    "    \n",
    "    return weights"
   ]
  },
  {
   "cell_type": "code",
   "execution_count": 108,
   "metadata": {},
   "outputs": [],
   "source": [
    "## For forward propogation: get linear response, and then apply activation function\n",
    "\n",
    "def sigmoid(x):\n",
    "    sigmoid=1/(1+np.exp(-1*x))\n",
    "    return sigmoid\n",
    "\n",
    "def get_response(train, weights):\n",
    "\n",
    "\n",
    "    lin_resp_1 = np.dot(weights[\"W1\"],train) + np.sum(weights[\"b1\"], axis=1, keepdims=True)\n",
    "    A1 = np.tanh(lin_resp_1)\n",
    "    \n",
    "    \n",
    "    lin_resp_2 = np.dot(weights[\"W2\"],A1) + np.sum(weights[\"b2\"], axis=1, keepdims=True)\n",
    "    A2 = sigmoid(lin_resp_2)\n",
    "\n",
    "    \n",
    "    temp = {\"lin_resp_1\": lin_resp_1,\n",
    "             \"A1\": A1,\n",
    "             \"lin_resp_2\": lin_resp_2,\n",
    "             \"A2\": A2}\n",
    "    \n",
    "    return A2, temp"
   ]
  },
  {
   "cell_type": "code",
   "execution_count": 123,
   "metadata": {},
   "outputs": [],
   "source": [
    "def get_cost(Y,weights,A2):\n",
    "    \n",
    "    m=Y.shape[1]\n",
    "    cost=(-1/m)*np.sum(((Y*np.log(A2))+((1-Y)*np.log(1-A2))))\n",
    "\n",
    "    return cost"
   ]
  },
  {
   "cell_type": "code",
   "execution_count": 110,
   "metadata": {},
   "outputs": [],
   "source": [
    "## Backprop\n",
    "\n",
    "## Taken from Andrew NG's deeplearning.ai lecture series\n",
    "\n",
    "def get_gradients(weights, temp, train, Y):\n",
    "\n",
    "    m = train.shape[1]\n",
    "    \n",
    "\n",
    "\n",
    "    dZ2 = temp[\"A2\"]-Y\n",
    "    dW2 = np.dot(dZ2, temp[\"A2\"].T)/m\n",
    "    db2 = (1/m)*np.sum(dZ2, axis=1, keepdims=True)\n",
    "    dZ1 = np.dot(weights[\"W2\"].T, dZ2) * (1-np.power(temp[\"A1\"],2))\n",
    "    dW1 = np.dot(dZ1, train.T)/m\n",
    "    db1 = (1/m)*np.sum(dZ1, axis=1, keepdims=True)\n",
    "    \n",
    "    grads = {\"dW1\": dW1,\n",
    "             \"db1\": db1,\n",
    "             \"dW2\": dW2,\n",
    "             \"db2\": db2}\n",
    "    \n",
    "    return grads"
   ]
  },
  {
   "cell_type": "code",
   "execution_count": 111,
   "metadata": {},
   "outputs": [],
   "source": [
    "## Update Weights\n",
    "def update_weights(weights,grads,alpha):\n",
    "    W1=weights[\"W1\"]-(alpha*grads[\"dW1\"])\n",
    "    b1=weights[\"b1\"]-(alpha*grads[\"db1\"])\n",
    "    W2=weights[\"W2\"]-(alpha*grads[\"dW2\"])\n",
    "    b2=weights[\"b2\"]-(alpha*grads[\"db2\"])\n",
    "    \n",
    "    weights = {\"W1\": W1,\n",
    "                  \"b1\": b1,\n",
    "                  \"W2\": W2,\n",
    "                  \"b2\": b2}\n",
    "                      \n",
    "    return weights\n"
   ]
  },
  {
   "cell_type": "code",
   "execution_count": 127,
   "metadata": {},
   "outputs": [],
   "source": [
    "def run(train, Y, n_1, iter, alpha):\n",
    "    \n",
    "    weights = init_weights(n_0,n_1,n_2)\n",
    "    cost=[]\n",
    "    \n",
    "    for i in range(0,iter):\n",
    "    \n",
    "        A2, temp = get_response(train, weights)\n",
    "    \n",
    "        cost.append(get_cost(Y,weights,A2))\n",
    "        \n",
    "        grads=get_gradients(weights, temp, train, Y)\n",
    "        \n",
    "        weights=update_weights(weights,grads,alpha)\n",
    "        \n",
    "        \n",
    "        if i%100==0:\n",
    "            print(\"cost at iter {} =\".format(i), cost[i])\n",
    "    \n",
    "    \n",
    "    plt.plot(cost,label=\"Cost by Iteration\")\n",
    "    \n",
    "    return weights"
   ]
  },
  {
   "cell_type": "code",
   "execution_count": 128,
   "metadata": {},
   "outputs": [
    {
     "name": "stdout",
     "output_type": "stream",
     "text": [
      "cost at iter 0 = 0.6889050141366961\n",
      "cost at iter 100 = 0.6092482728375389\n",
      "cost at iter 200 = 0.5488084878206133\n",
      "cost at iter 300 = 0.4943369119998025\n",
      "cost at iter 400 = 0.44673876974550847\n",
      "cost at iter 500 = 0.4048727632010564\n",
      "cost at iter 600 = 0.3681340993114556\n",
      "cost at iter 700 = 0.33351978061733517\n",
      "cost at iter 800 = 0.30524741979390035\n",
      "cost at iter 900 = 0.2804288921411559\n"
     ]
    },
    {
     "data": {
      "image/png": "[encoded data removed]",
      "text/plain": [
       "<Figure size 432x288 with 1 Axes>"
      ]
     },
     "metadata": {
      "needs_background": "light"
     },
     "output_type": "display_data"
    }
   ],
   "source": [
    "# Finally, train network\n",
    "alpha=0.001\n",
    "iter=1000\n",
    "trained_weights=run(train, Y, n_1, iter, alpha)"
   ]
  },
  {
   "cell_type": "code",
   "execution_count": null,
   "metadata": {},
   "outputs": [],
   "source": []
  }
 ],
 "metadata": {
  "kernelspec": {
   "display_name": "Python 3",
   "language": "python",
   "name": "python3"
  },
  "language_info": {
   "codemirror_mode": {
    "name": "ipython",
    "version": 3
   },
   "file_extension": ".py",
   "mimetype": "text/x-python",
   "name": "python",
   "nbconvert_exporter": "python",
   "pygments_lexer": "ipython3",
   "version": "3.7.3"
  }
 },
 "nbformat": 4,
 "nbformat_minor": 2
}
