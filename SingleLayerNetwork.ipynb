{
 "cells": [
  {
   "cell_type": "code",
   "execution_count": 222,
   "metadata": {},
   "outputs": [],
   "source": [
    "import numpy as np\n",
    "import matplotlib.pyplot as plt\n",
    "import cv2 as cv\n",
    "import os as os\n",
    "\n",
    "np.random.seed(42)\n",
    "\n",
    "## Set path for training data\n",
    "train_pos='./hot-dog-not-hot-dog/train/hot_dog/'\n",
    "train_neg='./hot-dog-not-hot-dog/train/not_hot_dog/'\n",
    "\n",
    "## Set path for validation data\n",
    "test_pos='./hot-dog-not-hot-dog/test/hot_dog/'\n",
    "test_neg='./hot-dog-not-hot-dog/test/not_hot_dog/'"
   ]
  },
  {
   "cell_type": "markdown",
   "metadata": {},
   "source": [
    "Training images are organized in separate folders for positive and negative classes.\n",
    "We read images from both folders into a numpy array, resize images to be the same size, and standardize values by dividing all pixel values by 255\n"
   ]
  },
  {
   "cell_type": "code",
   "execution_count": 223,
   "metadata": {},
   "outputs": [],
   "source": [
    "## As images are of different sizes, we resize all images to same size.. Setting size:\n",
    "img_width=64\n",
    "img_height=64\n",
    "img_size=img_width*img_height\n",
    "img_size_tuple=(img_width,img_height)\n",
    "\n",
    "## Create empty np array where we will write all training data. size of array [no of examples,image_size*3] for RGB images\n",
    "train_data=np.empty([498,img_size*3])\n",
    "Y=np.empty([498,1])\n",
    "\n",
    "#Read images from train folders\n",
    "i=0\n",
    "for im in os.listdir(train_pos):\n",
    "    image=cv.imread(train_pos+im)\n",
    "    image=cv.resize(image, img_size_tuple, interpolation=cv.INTER_CUBIC)\n",
    "    image=image.reshape(1,img_size*3)\n",
    "    \n",
    "    train_data[i]=image\n",
    "    Y[i]=1\n",
    "    i+=1\n",
    "\n",
    "for im in os.listdir(train_neg):\n",
    "    image=cv.imread(train_neg+im)\n",
    "    image=cv.resize(image, img_size_tuple, interpolation=cv.INTER_CUBIC)\n",
    "    image=image.reshape(1,img_size*3)\n",
    "    \n",
    "    train_data[i]=image\n",
    "    Y[i]=0\n",
    "    i+=1\n"
   ]
  },
  {
   "cell_type": "code",
   "execution_count": 224,
   "metadata": {},
   "outputs": [
    {
     "name": "stdout",
     "output_type": "stream",
     "text": [
      "Training Data Shape:  (12288, 498) \n",
      " Y vector Shape:  (1, 498)\n"
     ]
    }
   ],
   "source": [
    "## Preprocessing: Standardise values, transpose to have training examples in columns and features as rows\n",
    "train=train_data/255\n",
    "train = train.T\n",
    "Y=Y.T\n",
    "\n",
    "print(\"Training Data Shape: \",train.shape,\"\\n Y vector Shape: \", Y.shape)"
   ]
  },
  {
   "cell_type": "code",
   "execution_count": 225,
   "metadata": {},
   "outputs": [],
   "source": [
    "## Set Number of nodes\n",
    "\n",
    "# nodes in input layer = no of features\n",
    "# nodes in hidden layer = hyperparameter\n",
    "# nodes in output later = 1 for binary classification\n",
    "\n",
    "n_0 = train.shape[0]\n",
    "n_1 = 6\n",
    "n_2 = 1\n"
   ]
  },
  {
   "cell_type": "markdown",
   "metadata": {},
   "source": [
    "Now we define functions step by step:\n",
    "    \n",
    "    1. Set weights\n",
    "    2. Get linear response\n",
    "    3. Get activation - sigmoid and tanh for layer 2 and 1 resp\n",
    "    4. Compute cost\n",
    "    5. Get gradients\n",
    "    6. Update weights\n",
    "    \n",
    "    Repeat steps 2-5 until condition"
   ]
  },
  {
   "cell_type": "code",
   "execution_count": 226,
   "metadata": {},
   "outputs": [],
   "source": [
    "def init_weights(n_0,n_1,n_2):\n",
    "    \n",
    "    ## weights for layer l have dims [n_l,n_(l-1)]; bias term for layer l has dim [l,1]\n",
    "    W1 = np.random.randn(n_1,n_0) * 0.01\n",
    "    b1 = np.zeros((n_1,1))\n",
    "    W2 = np.random.randn(n_2,n_1)*0.01\n",
    "    b2 = np.zeros((n_2,1))\n",
    "\n",
    "    weights = {\"W1\": W1,\n",
    "                  \"b1\": b1,\n",
    "                  \"W2\": W2,\n",
    "                  \"b2\": b2}\n",
    "    \n",
    "    return weights"
   ]
  },
  {
   "cell_type": "code",
   "execution_count": 227,
   "metadata": {},
   "outputs": [],
   "source": [
    "## For forward propogation: get linear response, and then apply activation function\n",
    "\n",
    "def sigmoid(x):\n",
    "    sigmoid=1/(1+np.exp(-1*x))\n",
    "    return sigmoid\n",
    "\n",
    "def get_response(train, weights):\n",
    "\n",
    "\n",
    "    lin_resp_1 = np.dot(weights[\"W1\"],train) + np.sum(weights[\"b1\"], axis=1, keepdims=True)\n",
    "    A1 = np.tanh(lin_resp_1)\n",
    "    \n",
    "    \n",
    "    lin_resp_2 = np.dot(weights[\"W2\"],A1) + np.sum(weights[\"b2\"], axis=1, keepdims=True)\n",
    "    A2 = sigmoid(lin_resp_2)\n",
    "\n",
    "    \n",
    "    temp = {\"lin_resp_1\": lin_resp_1,\n",
    "             \"A1\": A1,\n",
    "             \"lin_resp_2\": lin_resp_2,\n",
    "             \"A2\": A2}\n",
    "    \n",
    "    return A2, temp"
   ]
  },
  {
   "cell_type": "code",
   "execution_count": 228,
   "metadata": {},
   "outputs": [],
   "source": [
    "def get_cost(Y,weights,A2):\n",
    "    \n",
    "    m=Y.shape[1]\n",
    "    cost=(-1/m)*np.sum(((Y*np.log(A2))+((1-Y)*np.log(1-A2))))\n",
    "\n",
    "    return cost"
   ]
  },
  {
   "cell_type": "code",
   "execution_count": 229,
   "metadata": {},
   "outputs": [],
   "source": [
    "## Backprop\n",
    "\n",
    "## Taken from Andrew NG's deeplearning.ai lecture series\n",
    "\n",
    "def get_gradients(weights, temp, train, Y):\n",
    "\n",
    "    m = train.shape[1]\n",
    "    \n",
    "\n",
    "\n",
    "    dZ2 = temp[\"A2\"]-Y\n",
    "    dW2 = np.dot(dZ2, temp[\"A2\"].T)/m\n",
    "    db2 = (1/m)*np.sum(dZ2, axis=1, keepdims=True)\n",
    "    dZ1 = np.dot(weights[\"W2\"].T, dZ2) * (1-np.power(temp[\"A1\"],2))\n",
    "    dW1 = np.dot(dZ1, train.T)/m\n",
    "    db1 = (1/m)*np.sum(dZ1, axis=1, keepdims=True)\n",
    "    \n",
    "    grads = {\"dW1\": dW1,\n",
    "             \"db1\": db1,\n",
    "             \"dW2\": dW2,\n",
    "             \"db2\": db2}\n",
    "    \n",
    "    return grads"
   ]
  },
  {
   "cell_type": "code",
   "execution_count": 230,
   "metadata": {},
   "outputs": [],
   "source": [
    "## Update Weights\n",
    "def update_weights(weights,grads,alpha):\n",
    "    W1=weights[\"W1\"]-(alpha*grads[\"dW1\"])\n",
    "    b1=weights[\"b1\"]-(alpha*grads[\"db1\"])\n",
    "    W2=weights[\"W2\"]-(alpha*grads[\"dW2\"])\n",
    "    b2=weights[\"b2\"]-(alpha*grads[\"db2\"])\n",
    "    \n",
    "    weights = {\"W1\": W1,\n",
    "                  \"b1\": b1,\n",
    "                  \"W2\": W2,\n",
    "                  \"b2\": b2}\n",
    "                      \n",
    "    return weights\n"
   ]
  },
  {
   "cell_type": "code",
   "execution_count": 231,
   "metadata": {},
   "outputs": [],
   "source": [
    "def run(train, Y, n_1, iter, alpha):\n",
    "    \n",
    "    weights = init_weights(n_0,n_1,n_2)\n",
    "    cost=[]\n",
    "    \n",
    "    for i in range(0,iter):\n",
    "    \n",
    "        A2, temp = get_response(train, weights)\n",
    "    \n",
    "        cost.append(get_cost(Y,weights,A2))\n",
    "        \n",
    "        grads=get_gradients(weights, temp, train, Y)\n",
    "        \n",
    "        weights=update_weights(weights,grads,alpha)\n",
    "        \n",
    "        \n",
    "        if i%1000==0:\n",
    "            print(\"cost at iter {} =\".format(i), cost[i])\n",
    "    \n",
    "    \n",
    "    plt.plot(cost,label=\"Cost by Iteration\")\n",
    "    \n",
    "    return weights"
   ]
  },
  {
   "cell_type": "code",
   "execution_count": 232,
   "metadata": {},
   "outputs": [
    {
     "name": "stdout",
     "output_type": "stream",
     "text": [
      "cost at iter 0 = 0.6931760390393897\n",
      "cost at iter 1000 = 0.6928420260783854\n",
      "cost at iter 2000 = 0.6925897402353192\n",
      "cost at iter 3000 = 0.6922997392005877\n",
      "cost at iter 4000 = 0.6919591039058532\n",
      "cost at iter 5000 = 0.6916154319490438\n",
      "cost at iter 6000 = 0.6913028745261055\n",
      "cost at iter 7000 = 0.6910389028825675\n",
      "cost at iter 8000 = 0.6908353932523815\n",
      "cost at iter 9000 = 0.6906992424634899\n"
     ]
    },
    {
     "data": {
      "image/png": "[encoded data removed]",
      "text/plain": [
       "<Figure size 432x288 with 1 Axes>"
      ]
     },
     "metadata": {
      "needs_background": "light"
     },
     "output_type": "display_data"
    }
   ],
   "source": [
    "# Finally, train network\n",
    "alpha=0.001\n",
    "iter=10000\n",
    "trained_weights=run(train, Y, n_1, iter, alpha)"
   ]
  },
  {
   "cell_type": "markdown",
   "metadata": {},
   "source": [
    "Read validation data and make predictions:"
   ]
  },
  {
   "cell_type": "code",
   "execution_count": 233,
   "metadata": {},
   "outputs": [
    {
     "name": "stdout",
     "output_type": "stream",
     "text": [
      "Test Data Shape:  (12288, 500) \n",
      " Y vector Shape:  (1, 500)\n"
     ]
    }
   ],
   "source": [
    "test_data=np.empty([500,img_size*3])\n",
    "Y_test=np.empty([500,1])\n",
    "#Read images from train folders\n",
    "i=0\n",
    "for im in os.listdir(test_pos):\n",
    "    image=cv.imread(test_pos+im)\n",
    "    image=cv.resize(image, img_size_tuple, interpolation=cv.INTER_CUBIC)\n",
    "    image=image.reshape(1,img_size*3)\n",
    "    \n",
    "    test_data[i]=image\n",
    "    Y_test[i]=1\n",
    "    i+=1\n",
    "\n",
    "for im in os.listdir(test_neg):\n",
    "    image=cv.imread(test_neg+im)\n",
    "    image=cv.resize(image, img_size_tuple, interpolation=cv.INTER_CUBIC)\n",
    "    image=image.reshape(1,img_size*3)\n",
    "    \n",
    "    test_data[i]=image\n",
    "    Y_test[i]=0\n",
    "    i+=1\n",
    "    \n",
    "\n",
    "\n",
    "## Apply same preprocessing steps as with training data\n",
    "test=test_data/255\n",
    "test=test.T\n",
    "Y_test=Y_test.T\n",
    "\n",
    "print(\"Test Data Shape: \",test.shape,\"\\n Y vector Shape: \", Y_test.shape)"
   ]
  },
  {
   "cell_type": "code",
   "execution_count": 234,
   "metadata": {},
   "outputs": [
    {
     "data": {
      "text/plain": [
       "0.558"
      ]
     },
     "execution_count": 234,
     "metadata": {},
     "output_type": "execute_result"
    }
   ],
   "source": [
    "resp,_= get_response(test, trained_weights)\n",
    "preds=resp>0.5\n",
    "\n",
    "(np.sum(preds==Y_test))/Y_test.shape[1]"
   ]
  }
 ],
 "metadata": {
  "kernelspec": {
   "display_name": "Python 3",
   "language": "python",
   "name": "python3"
  },
  "language_info": {
   "codemirror_mode": {
    "name": "ipython",
    "version": 3
   },
   "file_extension": ".py",
   "mimetype": "text/x-python",
   "name": "python",
   "nbconvert_exporter": "python",
   "pygments_lexer": "ipython3",
   "version": "3.7.3"
  }
 },
 "nbformat": 4,
 "nbformat_minor": 2
}
